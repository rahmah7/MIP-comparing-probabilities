import random
import matplotlib.pyplot as plt
import numpy as np

# Function to roll a die
def roll_die(sides=6):
    return random.randint(1, sides)

# Function to simulate a scenario
def simulate_game(trials=10000):
    outcomes = []
    for _ in range(trials):
        roll1 = roll_die()
        roll2 = roll_die()
        outcomes.append(roll1 + roll2)  # Example: Sum of two dice rolls
    return outcomes

# Theoretical probabilities for sum of two dice rolls
def theoretical_probabilities():
    sides = 6
    theoretical = {}
    for i in range(2, sides * 2 + 1):
        count = 0
        for die1 in range(1, sides + 1):
            for die2 in range(1, sides + 1):
                if die1 + die2 == i:
                    count += 1
        theoretical[i] = count / (sides * sides)
    return theoretical

# Empirical probabilities from simulation
def empirical_probabilities(outcomes):
    unique, counts = np.unique(outcomes, return_counts=True)
    total = sum(counts)
    empirical = {outcome: count / total for outcome, count in zip(unique, counts)}
    return empirical

# Plotting the results
def plot_probabilities(theoretical, empirical):
    labels = sorted(theoretical.keys())
    theoretical_values = [theoretical[k] for k in labels]
    empirical_values = [empirical.get(k, 0) for k in labels]

    x = np.arange(len(labels))
    width = 0.35

    fig, ax = plt.subplots(figsize=(10, 6))
    ax.bar(x - width/2, theoretical_values, width, label='Theoretical')
    ax.bar(x + width/2, empirical_values, width, label='Empirical')

    ax.set_xlabel('Sum of Two Dice')
    ax.set_ylabel('Probability')
    ax.set_title('Theoretical vs Empirical Probabilities')
    ax.set_xticks(x)
    ax.set_xticklabels(labels)
    ax.legend()

    plt.show()

# Main function
def main():
    trials = 10000  # Number of simulations
    print("Simulating the game...")

    # Simulating outcomes
    outcomes = simulate_game(trials)

    # Calculating probabilities
    theoretical = theoretical_probabilities()
    empirical = empirical_probabilities(outcomes)

    # Display probabilities
    print("Theoretical Probabilities:")
    for k, v in theoretical.items():
        print(f"Sum {k}: {v:.4f}")
    
    print("\nEmpirical Probabilities:")
    for k, v in empirical.items():
        print(f"Sum {k}: {v:.4f}")

    # Plot the probabilities
    plot_probabilities(theoretical, empirical)

# Run the main function
if __name__ == "__main__":
    main()
